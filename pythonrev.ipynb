{
 "cells": [
  {
   "cell_type": "code",
   "execution_count": 1,
   "metadata": {},
   "outputs": [
    {
     "name": "stdout",
     "output_type": "stream",
     "text": [
      "palindrome\n"
     ]
    }
   ],
   "source": [
    "n=int (input(\"enter a number\"))\n",
    "\n",
    "temp=n\n",
    "rem=0\n",
    "pal=0\n",
    "while n>0:\n",
    "    rem=n%10\n",
    "    n=n//10\n",
    "    pal=pal*10+rem\n",
    "if temp==pal:\n",
    "    print(\"palindrome\")\n",
    "else:\n",
    "    print(\"not palindrome\")        \n",
    "\n"
   ]
  },
  {
   "cell_type": "code",
   "execution_count": 6,
   "metadata": {},
   "outputs": [
    {
     "name": "stdout",
     "output_type": "stream",
     "text": [
      "odd 1\n",
      "odd 3\n",
      "even 4\n",
      "even 2\n",
      "odd 5\n",
      "even 6\n",
      "odd 7\n"
     ]
    }
   ],
   "source": [
    "l=[1,3,4,2,5,6,7]\n",
    "\n",
    "for i in l:\n",
    "    if i%2==0:\n",
    "        print(\"even\",i)\n",
    "    else:\n",
    "        print(\"odd\",i)\n",
    "\n"
   ]
  },
  {
   "cell_type": "code",
   "execution_count": 10,
   "metadata": {},
   "outputs": [
    {
     "name": "stdout",
     "output_type": "stream",
     "text": [
      "odd 1\n",
      "even 2\n",
      "odd 3\n",
      "even 4\n",
      "odd 5\n",
      "even 6\n",
      "odd 7\n",
      "even 8\n",
      "odd 9\n",
      "even 10\n"
     ]
    }
   ],
   "source": [
    "a=1\n",
    "while a<=10:\n",
    "    if a%2==0:\n",
    "        print(\"even\",a)\n",
    "    else:\n",
    "        print(\"odd\",a)\n",
    "    a=a+1        "
   ]
  },
  {
   "cell_type": "code",
   "execution_count": 17,
   "metadata": {},
   "outputs": [
    {
     "name": "stdout",
     "output_type": "stream",
     "text": [
      "list: [1, -3, 2, 8, 5, -4, 3, 5, 9]\n",
      "sum of the positive numbers: 33\n"
     ]
    }
   ],
   "source": [
    "nums=[1,-3,2,8,5,-4,3,5,9]\n",
    "print(\"list:\", nums)\n",
    "total_positive_nums = list(filter(lambda nums: nums > 0, nums))\n",
    "print(\"sum of the positive numbers:\", sum(total_positive_nums))"
   ]
  },
  {
   "cell_type": "code",
   "execution_count": 14,
   "metadata": {},
   "outputs": [
    {
     "name": "stdout",
     "output_type": "stream",
     "text": [
      "the area of recatngle is:15.0\n"
     ]
    }
   ],
   "source": [
    "def calculate_area(length,width):\n",
    "    return length * width\n",
    "length=float(input(\"enter the length of rectangle\"))\n",
    "width=float(input(\"enter the width of recatngle\"))\n",
    "area=calculate_area(length,width)\n",
    "print(f\"the area of recatngle is:{area}\")"
   ]
  },
  {
   "cell_type": "code",
   "execution_count": 21,
   "metadata": {},
   "outputs": [
    {
     "name": "stdout",
     "output_type": "stream",
     "text": [
      "min= 1\n",
      "max= 9\n"
     ]
    }
   ],
   "source": [
    "l=[2,3,1,4,9]\n",
    "print(\"min=\",min(l))\n",
    "print(\"max=\",max(l))"
   ]
  },
  {
   "cell_type": "code",
   "execution_count": 23,
   "metadata": {},
   "outputs": [
    {
     "name": "stdout",
     "output_type": "stream",
     "text": [
      "The compound interest is: 1100.95\n"
     ]
    }
   ],
   "source": [
    "principal = float(input(\"Enter the principal amount: \"))\n",
    "rate = float(input(\"Enter the annual interest rate (in %): \"))\n",
    "times_compounded = int(input(\"Enter the number of times interest is compounded per year: \"))\n",
    "time = float(input(\"Enter the time period in years: \"))\n",
    "\n",
    "def calculate_compound_interest(principal, rate, times_compounded, time):\n",
    "    rate_decimal = rate / 100\n",
    "    amount = principal * (1 + rate_decimal / times_compounded) ** (times_compounded * time)\n",
    "    compound_interest = amount - principal\n",
    "    return compound_interest\n",
    "interest = calculate_compound_interest(principal, rate, times_compounded, time)\n",
    "print(f\"The compound interest is: {interest:.2f}\")\n"
   ]
  },
  {
   "cell_type": "code",
   "execution_count": 6,
   "metadata": {},
   "outputs": [
    {
     "name": "stdout",
     "output_type": "stream",
     "text": [
      "The string 'hello' contains 5 characters.\n"
     ]
    }
   ],
   "source": [
    "s=input(\"enter the string\")\n",
    "length_of_string=len(s)\n",
    "print(f\"The string '{s}' contains {length_of_string} characters.\")"
   ]
  },
  {
   "cell_type": "code",
   "execution_count": 13,
   "metadata": {},
   "outputs": [
    {
     "name": "stdout",
     "output_type": "stream",
     "text": [
      "perfect number\n"
     ]
    }
   ],
   "source": [
    "a=int(input(\"enter a number\"))\n",
    "sum=0\n",
    "for i in range(1,a):\n",
    "    if a%i==0:\n",
    "        sum=sum+i\n",
    "if sum==a:\n",
    "    print(\"perfect number\") \n",
    "else:\n",
    "    print(\"not perfect number\")           \n",
    "           \n",
    "\n",
    "        "
   ]
  },
  {
   "cell_type": "code",
   "execution_count": 1,
   "metadata": {},
   "outputs": [],
   "source": [
    "#calculator\n",
    "\n",
    "def add(a,b):\n",
    "    print(a+b)\n",
    "def sub(a,b):\n",
    "    print(a-b)\n",
    "def mul(a,b):\n",
    "    print(a*b)\n",
    "def div(a,b):\n",
    "    print(a/b)  \n",
    "def calculator():\n",
    "    a=int(input('enter first number'))\n",
    "    b=int(input('enter second number'))\n",
    "    o=int(input('select operator'))\n",
    "    if o==1:\n",
    "        add(a,b)\n",
    "    elif o==2:\n",
    "        sub(a,b)\n",
    "    elif o==3:\n",
    "        mul(a,b)\n",
    "    else:\n",
    "        div(a,b)            \n",
    "\n"
   ]
  },
  {
   "cell_type": "code",
   "execution_count": 2,
   "metadata": {},
   "outputs": [
    {
     "name": "stdout",
     "output_type": "stream",
     "text": [
      "4\n"
     ]
    }
   ],
   "source": [
    "calculator()"
   ]
  },
  {
   "cell_type": "code",
   "execution_count": null,
   "metadata": {},
   "outputs": [],
   "source": []
  }
 ],
 "metadata": {
  "kernelspec": {
   "display_name": "Python 3",
   "language": "python",
   "name": "python3"
  },
  "language_info": {
   "codemirror_mode": {
    "name": "ipython",
    "version": 3
   },
   "file_extension": ".py",
   "mimetype": "text/x-python",
   "name": "python",
   "nbconvert_exporter": "python",
   "pygments_lexer": "ipython3",
   "version": "3.11.9"
  }
 },
 "nbformat": 4,
 "nbformat_minor": 2
}
